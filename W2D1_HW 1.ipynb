{
 "cells": [
  {
   "cell_type": "markdown",
   "metadata": {},
   "source": [
    "# Homework Assignment 1"
   ]
  },
  {
   "cell_type": "markdown",
   "metadata": {},
   "source": [
    "* PART 1: Encoding Systems"
   ]
  },
  {
   "cell_type": "code",
   "execution_count": null,
   "metadata": {
    "collapsed": true
   },
   "outputs": [],
   "source": [
    "#http://web.alfredstate.edu/weimandn/miscellaneous/ascii/ASCII%20Conversion%20Chart.pdf\n",
    "# a: Yes. \n",
    "# b: 3 cats\n",
    "# c. Mom?"
   ]
  },
  {
   "cell_type": "code",
   "execution_count": null,
   "metadata": {
    "collapsed": true
   },
   "outputs": [],
   "source": [
    "# d. http://www.unicode.org/charts/PDF/U0250.pdf\n",
    "#    http://www.unicode.org/charts/PDF/U0000.pdf\n",
    "# tjart - 국제발음기호"
   ]
  },
  {
   "cell_type": "code",
   "execution_count": null,
   "metadata": {
    "collapsed": true
   },
   "outputs": [],
   "source": [
    "# e. http://www.unicode.org/charts/PDF/U0000.pdf\n",
    "# Mom? "
   ]
  },
  {
   "cell_type": "markdown",
   "metadata": {},
   "source": [
    "* PART 2: Palindrome"
   ]
  },
  {
   "cell_type": "code",
   "execution_count": null,
   "metadata": {
    "collapsed": false
   },
   "outputs": [],
   "source": [
    "#Script 1\n",
    "exp = input('Give me a palindrome: ')\n",
    "x =''\n",
    "exp_rev =''\n",
    "Correct = False\n",
    "\n",
    "for x in exp:\n",
    "    exp_rev = x + exp_rev\n",
    "    #print(exp_rev)\n",
    "print(exp_rev)\n",
    "print(exp)\n",
    "\n",
    "while not Correct:\n",
    "        \n",
    "    if len(exp) < 3:\n",
    "        print('Sorry give me a longer one.')\n",
    "        exp = input('Give me a palindrome: ')\n",
    "\n",
    "    elif exp_rev == exp:\n",
    "        print('YES,' '\"'+exp+'\" ' 'is a palindrome.')\n",
    "        Correct = True\n",
    "   \n",
    "    else:     \n",
    "        print('NO,' '\"'+exp+'\" ' 'is not a palindrome.')\n",
    "        Correct = True"
   ]
  },
  {
   "cell_type": "code",
   "execution_count": null,
   "metadata": {
    "collapsed": false
   },
   "outputs": [],
   "source": [
    "# Script 2\n",
    "\n",
    "exp = input('Give me a palindrome: ')\n",
    "x =''\n",
    "exp_clean = ''\n",
    "exp_rev =''\n",
    "\n",
    "exp_clean = exp.lower().replace(\"'\", '').replace('!', '').replace(' ', '').replace('.', '').replace('?', '').replace(',', '').replace(' ', '').replace('\"', '')\n",
    "#exp_rev = x + exp_rev\n",
    "#print(exp_clean)\n",
    "\n",
    "for x in exp_clean:\n",
    "    #print(x)\n",
    "    exp_rev = x + exp_rev\n",
    "    #print(exp_rev)\n",
    "\n",
    "      \n",
    "if len(exp_rev) < 3:\n",
    "    print('Sorry, give me a longer one.')\n",
    "        \n",
    "elif exp_rev == exp_clean:\n",
    "    print('YES,' '\"'+exp+'\" ' 'is a palindrome.')   \n",
    "   \n",
    "else:     \n",
    "    print('NO,'  '\"'+exp+'\" ' 'is not a palindrome.')\n"
   ]
  },
  {
   "cell_type": "code",
   "execution_count": 3,
   "metadata": {
    "collapsed": false
   },
   "outputs": [
    {
     "name": "stdout",
     "output_type": "stream",
     "text": [
      "Hello! Let's start.\n",
      "Give me a palindrome: k\n",
      "k\n",
      "Sorry, try something longer.\n",
      "Give me a palindrome: mo\n",
      "om\n",
      "Sorry, try something longer.\n",
      "Give me a palindrome: elephant\n",
      "tnahpele\n",
      "NO,\"elephant\" is not a palindrome. Let's try again.\n",
      "Give me a palindrome: give\n",
      "evig\n",
      "NO,\"give\" is not a palindrome. Let's try again.\n",
      "Give me a palindrome: mom\n",
      "mom\n",
      "YES,\"mom\" is a palindrome.\n",
      "Goodbye.\n"
     ]
    }
   ],
   "source": [
    "# Script 3\n",
    "print('Hello! Let\\'s start.')\n",
    "\n",
    "#x =''\n",
    "#exp_clean = ''\n",
    "Correct = False\n",
    "\n",
    "while not Correct:      \n",
    "    exp = input('Give me a palindrome: ')      \n",
    "\n",
    "    exp_clean = exp.lower().replace(\"'\", '').replace('!', '').replace(' ', '').replace('.', '').replace('?', '').replace(',', '').replace(' ', '').replace('\"', '')\n",
    "    #print(exp_clean)\n",
    "    \n",
    "    exp_rev = ''\n",
    "    for x in exp_clean:\n",
    "        exp_rev = x + exp_rev\n",
    "    print(exp_rev)\n",
    "    \n",
    "    if len(exp_rev) < 3:\n",
    "        print('Sorry, try something longer.')\n",
    "        Correct = False\n",
    "              \n",
    "    elif exp_rev == exp_clean:\n",
    "        print('YES,' '\"' + exp + '\" ' 'is a palindrome.')\n",
    "        Correct = True\n",
    "\n",
    "    else:     \n",
    "        print('NO,' '\"' + exp + '\" ' 'is not a palindrome. Let\\'s try again.')\n",
    "        Correct = False\n",
    "        \n",
    "print('Goodbye.')"
   ]
  },
  {
   "cell_type": "code",
   "execution_count": null,
   "metadata": {
    "collapsed": true
   },
   "outputs": [],
   "source": [
    "#Script 3\n",
    "print('Hello! Let\\'s start.')\n",
    "\n",
    "Correct = False\n",
    "\n",
    "while not Correct:   \n",
    "    exp = input('Give me a palindrome: ')      \n",
    "\n",
    "    exp_clean = exp.lower().replace(\"'\", '').replace('!', '').replace(' ', '').replace('.', '').replace('?', '').replace(',', '').replace(' ', '').replace('\"', '')\n",
    "    #print(exp_clean)\n",
    "    \n",
    "    exp_rev = ''\n",
    "    for x in exp_clean:\n",
    "        exp_rev = x + exp_rev\n",
    "    print(exp_rev)\n",
    "    \n",
    "    if len(exp_rev) < 3:\n",
    "        print('Sorry, try something longer.')\n",
    "        Correct = False\n",
    "              \n",
    "    elif exp_rev == exp_clean:\n",
    "        print('YES,' '\"' + exp + '\" ' 'is a palindrome.')\n",
    "        Correct = True\n",
    "\n",
    "    else:     \n",
    "        print('NO,' '\"' + exp + '\"' 'is not a palindrome. Let\\'s try again.')\n",
    "        Correct = False\n",
    "        \n",
    "print('Goodbye.')"
   ]
  },
  {
   "cell_type": "code",
   "execution_count": null,
   "metadata": {
    "collapsed": true
   },
   "outputs": [],
   "source": [
    "t= True\n",
    "\n",
    "while t == True :\n",
    "    p = input('give me a palindrom ')\n",
    "    pp = p.lower().replace(\"'\",'').replace(' ','').replace(',','').replace('.','')\n",
    "    #print(pp)\n",
    "    \n",
    "    if len(p)<3 :\n",
    "        print('sorry try something longer')\n",
    "        \n",
    "    else :\n",
    "        p_rev=''\n",
    "        for a in pp :\n",
    "            p_rev= a + p_rev\n",
    "            #print(p_rev)\n",
    "            \n",
    "        if pp==p_rev :\n",
    "            print('yes.\"', p, '\"is a palindrome' )\n",
    "            t = False\n",
    "            \n",
    "        else :\n",
    "            print('no,',p,'\"is not a palindrom. Let\\'s try again.')\n",
    "            \n",
    "print('goodbye')"
   ]
  }
 ],
 "metadata": {
  "kernelspec": {
   "display_name": "Python 3",
   "language": "python",
   "name": "python3"
  },
  "language_info": {
   "codemirror_mode": {
    "name": "ipython",
    "version": 3
   },
   "file_extension": ".py",
   "mimetype": "text/x-python",
   "name": "python",
   "nbconvert_exporter": "python",
   "pygments_lexer": "ipython3",
   "version": "3.5.1"
  }
 },
 "nbformat": 4,
 "nbformat_minor": 0
}
